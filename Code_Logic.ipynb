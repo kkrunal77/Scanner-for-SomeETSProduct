{
 "cells": [
  {
   "cell_type": "code",
   "execution_count": 4,
   "id": "3effadf7-8dc4-4c04-87c0-98ff88a5a6cd",
   "metadata": {},
   "outputs": [],
   "source": [
    "import re\n",
    "import sys\n",
    "import json\n",
    "import pandas as pd\n",
    "import nltk\n",
    "from nltk.tokenize import word_tokenize, sent_tokenize\n"
   ]
  },
  {
   "cell_type": "code",
   "execution_count": 16,
   "id": "62798944-cf28-4dda-a15d-3ac324be00e1",
   "metadata": {},
   "outputs": [],
   "source": [
    "csv_path = './sentences.csv'\n",
    "output_path = './output10.json'\n",
    "df = pd.read_csv(csv_path)"
   ]
  },
  {
   "cell_type": "code",
   "execution_count": 20,
   "id": "df5e9386-50f0-436d-80b1-9475075124b0",
   "metadata": {
    "tags": []
   },
   "outputs": [
    {
     "name": "stdout",
     "output_type": "stream",
     "text": [
      "Look Output file to ./output10.json\n"
     ]
    }
   ],
   "source": [
    "# preprocess then used NLTK for word to convert to POS_TAGs \n",
    "def get_word_tokenize_with_pos_tag(sentence):\n",
    "    sentence = pre_process(sentence)\n",
    "    words = word_tokenize(sentence)\n",
    "    pos_tags = nltk.pos_tag(words)\n",
    "    word_list = []\n",
    "    pos_tags_list = []\n",
    "    for sent, tag in pos_tags:\n",
    "        word_list.append(sent)\n",
    "        pos_tags_list.append(tag)\n",
    "    return (word_list, pos_tags_list)\n",
    "\n",
    "\n",
    "# Extract featues with tag is IN\n",
    "def extract_features(sentence_number, sentences):\n",
    "    tokens, pos_tags = get_word_tokenize_with_pos_tag(sentences)\n",
    "    prepositions = [i for i, token_tag in enumerate(zip(tokens, pos_tags)) if (token_tag[1] == 'IN') and \n",
    "                    (token_tag[0].lower() in ['on', 'for', 'of', 'to', 'at', 'in', 'with', 'by'])]\n",
    "    result = []\n",
    "    \n",
    "    for prep_position in prepositions:\n",
    "        prep_id = f\"{sentence_number}_{prep_position}\"\n",
    "        prep = tokens[prep_position]\n",
    "        \n",
    "        features = [\n",
    "            ' '.join(tokens[max(0, prep_position-1):prep_position]),\n",
    "            ' '.join(tokens[prep_position:prep_position+2]),\n",
    "            ' '.join(tokens[max(0, prep_position-1):prep_position+2]),\n",
    "            ' '.join(tokens[max(0, prep_position-2):prep_position]),\n",
    "            ' '.join(tokens[prep_position:prep_position+3]),\n",
    "            ' '.join(tokens[max(0, prep_position-2):prep_position+3]),\n",
    "            ' '.join(pos_tags[max(0, prep_position-1):prep_position]),\n",
    "            ' '.join(pos_tags[prep_position:prep_position+2]),\n",
    "            ' '.join(pos_tags[max(0, prep_position-1):prep_position+2]),\n",
    "            ' '.join(pos_tags[max(0, prep_position-2):prep_position]),\n",
    "            ' '.join(pos_tags[prep_position:prep_position+3]),\n",
    "            ' '.join(pos_tags[max(0, prep_position-2):prep_position+3]),\n",
    "        ]\n",
    "        result.append({\n",
    "            \"id\": prep_id,\n",
    "            \"prep\": prep,\n",
    "            \"features\": features\n",
    "        })\n",
    "    return result\n",
    "\n",
    "\n",
    "# replace end sentences and new sentences\n",
    "def pre_process(sent):\n",
    "    sent = sent.replace('.', '').replace(',', '')\n",
    "    return sent\n",
    "\n",
    "\n",
    "# data frame columns which having sentences flattern to list for process.\n",
    "def process_sentences(df):\n",
    "    sentences = df['Sentence'].tolist()\n",
    "    output = []\n",
    "    for i, sentence in enumerate(sentences, start=1):\n",
    "        output.extend(extract_features(i, sentence))\n",
    "    return output\n",
    "\n",
    "\n",
    "def write_output_json(output_path, output_data):\n",
    "    with open(output_path, 'w') as f:\n",
    "        for line in output_data:\n",
    "            f.write(json.dumps(line) + '\\n')\n",
    "        f.close()\n",
    "    print(f\"Look Output file to {output_path}\")\n",
    "\n",
    "    \n",
    "    \n",
    "def main():\n",
    "    output_data = process_sentences(df)\n",
    "\n",
    "    # Write output to a jsonlines file\n",
    "    write_output_json(output_path, output_data)\n",
    "\n",
    "\n",
    "if __name__ == \"__main__\":\n",
    "    main()\n",
    "\n",
    "\n"
   ]
  },
  {
   "cell_type": "code",
   "execution_count": 85,
   "id": "b0dd7421-8655-47e4-b623-ab6572a1d307",
   "metadata": {},
   "outputs": [],
   "source": [
    "sentence = \"If the teacher once entered in to the class she should be well preaperd of what she is going to explain.\"\n"
   ]
  },
  {
   "cell_type": "code",
   "execution_count": 21,
   "id": "ce91ac0f-5767-48e8-820b-c1637567722f",
   "metadata": {},
   "outputs": [],
   "source": [
    "# output_data[4]"
   ]
  },
  {
   "cell_type": "code",
   "execution_count": 22,
   "id": "71b60ee2-66ea-4be6-948a-f180cd19d820",
   "metadata": {},
   "outputs": [],
   "source": [
    "# output_data"
   ]
  },
  {
   "cell_type": "code",
   "execution_count": null,
   "id": "4744243c-1d2c-4556-9f2f-49fc92e21308",
   "metadata": {},
   "outputs": [],
   "source": []
  }
 ],
 "metadata": {
  "kernelspec": {
   "display_name": "Python 3",
   "language": "python",
   "name": "python3"
  },
  "language_info": {
   "codemirror_mode": {
    "name": "ipython",
    "version": 3
   },
   "file_extension": ".py",
   "mimetype": "text/x-python",
   "name": "python",
   "nbconvert_exporter": "python",
   "pygments_lexer": "ipython3",
   "version": "3.8.12"
  }
 },
 "nbformat": 4,
 "nbformat_minor": 5
}
